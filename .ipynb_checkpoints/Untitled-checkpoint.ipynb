{
 "cells": [
  {
   "cell_type": "code",
   "execution_count": 14,
   "id": "37c1b815-03c1-4ffc-b73e-a2596ffbdb86",
   "metadata": {},
   "outputs": [],
   "source": [
    "try:\n",
    "    import torch\n",
    "    from torch.utils.data import DataLoader\n",
    "    from torchvision import datasets\n",
    "    from torchvision.transforms import ToTensor\n",
    "    import torch.nn as nn\n",
    "    import torch.nn.functional as F\n",
    "except ImportError:\n",
    "    !pip3 install torch torchvision torchaudio --index-url https://download.pytorch.org/whl/cpu\n",
    "    import torch\n",
    "    from torch.utils.data import DataLoader\n",
    "    from torchvision import datasets\n",
    "    from torchvision.transforms import ToTensor\n",
    "    import torch.nn as nn\n",
    "    import torch.nn.functional as F\n",
    "    \n",
    "try:\n",
    "    from skimage.feature import hog\n",
    "    from skimage.color import rgb2gray\n",
    "except ImportError:\n",
    "    !pip3 install scikit-image\n",
    "    from skimage.feature import hog\n",
    "    from skimage.color import rgb2gray\n",
    "\n",
    "import matplotlib.pyplot as plt\n",
    "from collections import Counter\n",
    "from sklearn.metrics import confusion_matrix\n",
    "import numpy as np\n",
    "import random\n",
    "import pandas as pd\n",
    "from sklearn.metrics import accuracy_score, f1_score\n",
    "\n",
    "torch.manual_seed(1)\n",
    "random.seed(1)\n",
    "np.random.seed(1)"
   ]
  },
  {
   "cell_type": "code",
   "execution_count": 15,
   "id": "c92cc563-6167-4006-9722-53e7ef0f02b6",
   "metadata": {},
   "outputs": [],
   "source": [
    "class MLP(nn.Module):\n",
    "    def __init__(self, input_neurons, output_neurons, hidden_layers):\n",
    "        super(MLP, self).__init__()\n",
    "        self.input_neurons=input_neurons\n",
    "        self.output_neurons=output_neurons\n",
    "        self.hidden_layers=hidden_layers\n",
    "\n",
    "        self.flatten = nn.Flatten()\n",
    "\n",
    "        layers=[]\n",
    "        prev_neurons=input_neurons\n",
    "        if isinstance(hidden_layers,list):\n",
    "            for i in hidden_layers:\n",
    "                layers.append(nn.Linear(prev_neurons,i))\n",
    "                layers.append(nn.ReLU())\n",
    "                prev_neurons=i\n",
    "        else:\n",
    "            print(\"ERROR DE FORMATO, PASALE UNA LIST COMO HIDDENLAYERS\")\n",
    "        \n",
    "        layers.append(nn.Linear(prev_neurons,output_neurons))\n",
    "\n",
    "        self.hiddenlayer_stack = nn.Sequential(*layers)\n",
    "\n",
    "\n",
    "    def forward(x):\n",
    "\n",
    "        x=self.flatten(x)\n",
    "        salida=self.hiddenlayer_stack(x)\n",
    "        return salida"
   ]
  },
  {
   "cell_type": "code",
   "execution_count": 10,
   "id": "1bfc9bba-c740-4a39-95ea-ea91bc737c2d",
   "metadata": {},
   "outputs": [],
   "source": [
    "holiwis=None\n",
    "if isinstance(holiwis,list):\n",
    "    print(type(holiwis))"
   ]
  },
  {
   "cell_type": "code",
   "execution_count": null,
   "id": "16a80a5e-3eae-4932-b071-bbc9536babdd",
   "metadata": {},
   "outputs": [],
   "source": []
  }
 ],
 "metadata": {
  "kernelspec": {
   "display_name": "Python 3 (ipykernel)",
   "language": "python",
   "name": "python3"
  },
  "language_info": {
   "codemirror_mode": {
    "name": "ipython",
    "version": 3
   },
   "file_extension": ".py",
   "mimetype": "text/x-python",
   "name": "python",
   "nbconvert_exporter": "python",
   "pygments_lexer": "ipython3",
   "version": "3.11.10"
  }
 },
 "nbformat": 4,
 "nbformat_minor": 5
}
