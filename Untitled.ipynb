{
 "cells": [
  {
   "cell_type": "code",
   "execution_count": null,
   "id": "c92cc563-6167-4006-9722-53e7ef0f02b6",
   "metadata": {},
   "outputs": [],
   "source": [
    "class"
   ]
  },
  {
   "cell_type": "markdown",
   "id": "98d83075",
   "metadata": {},
   "source": [
    "## Arquitectura CNN modular"
   ]
  },
  {
   "cell_type": "code",
   "execution_count": null,
   "id": "b33cfa97",
   "metadata": {},
   "outputs": [],
   "source": [
    "from torch import nn\n",
    "\n",
    "class CNN(nn.Module):\n",
    "\n",
    "    # first_conv_filters: num filtros primera capa\n",
    "    # con_kernel_size: entero\n",
    "    def __init__(input_channels, conv_lavers, first_conv_filters, conv_kernel_size, batch_norm, hidden_mlp_layers, output_neurons):\n",
    "        \n",
    "        # Construtor \n",
    "        super(CNN, self).__init__() \n",
    "\n",
    "        # Arrays auxiliares\n",
    "        layers = [] # Contiene las capas\n",
    "\n",
    "        # Definición de capas según los parámetros\n",
    "        for _ in conv_lavers: # Bucle para el número de capas convolucionades pasadas por parámetro\n",
    "            layers.append(nn.Conv2d(in_channels=input_channels, out_channels=output_neurons, kernel_size=conv_kernel_size, stride=1, padding=1))\n",
    "            first_conv_filters *= 2\n",
    "        # Primeira capa convolucional\n",
    "        self.conv1 = nn.Conv2d(in_channels=input_channels, out_channels=, kernel_size=3, stride=1, padding=1)\n",
    "        # Capa de max pooling\n",
    "        self.pool = nn.MaxPool2d(kernel_size=2, stride=2, padding=0)\n",
    "        # Capa de activación ReLU\n",
    "        self.relu = nn.ReLU()\n",
    "        # Segunda capa convolucional\n",
    "        self.conv2 = nn.Conv2d(in_channels=16, out_channels=32, kernel_size=3, stride=1, padding=1)\n",
    "        # Capa de aplanamento\n",
    "        self.flatten = nn.Flatten()\n",
    "        # Capa totalmente conectada\n",
    "        self.linear_relu_stack = nn.Sequential(*layers)\n",
    "\n",
    "\n",
    "\n",
    "    def forward(x):\n",
    "        x = self.conv1(x)\n",
    "        x = self.relu(x)\n",
    "        x = self.pool(x)\n",
    "\n",
    "        x = self.conv2(x)\n",
    "        x = self.relu(x)\n",
    "        x = self.pool(x)\n",
    "\n",
    "        x = self.flatten(x)\n",
    "        x = self.linear_relu_stack(x)\n",
    "        return x\n",
    "        "
   ]
  },
  {
   "cell_type": "code",
   "execution_count": null,
   "id": "d220d9f3",
   "metadata": {},
   "outputs": [],
   "source": [
    "cnn = CNN()"
   ]
  }
 ],
 "metadata": {
  "kernelspec": {
   "display_name": "Python 3 (ipykernel)",
   "language": "python",
   "name": "python3"
  },
  "language_info": {
   "codemirror_mode": {
    "name": "ipython",
    "version": 3
   },
   "file_extension": ".py",
   "mimetype": "text/x-python",
   "name": "python",
   "nbconvert_exporter": "python",
   "pygments_lexer": "ipython3",
   "version": "3.11.10"
  }
 },
 "nbformat": 4,
 "nbformat_minor": 5
}
